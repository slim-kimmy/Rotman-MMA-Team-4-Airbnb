{
 "cells": [
  {
   "cell_type": "code",
   "execution_count": null,
   "id": "408d1b6a",
   "metadata": {},
   "outputs": [],
   "source": [
    "import openai\n",
    "from dotenv import load_dotenv\n",
    "import os\n",
    "\n",
    "load_dotenv()\n",
    "OPENROUTER_API_KEY = os.getenv(\"OPENROUTER_API_KEY\")\n",
    "print(OPENROUTER_API_KEY)"
   ]
  },
  {
   "cell_type": "code",
   "execution_count": null,
   "id": "86b8b6a1",
   "metadata": {},
   "outputs": [],
   "source": [
    "def create_page_content(property_item):\n",
    "    # Use OpenAI's API to summarize the property details\n",
    "    prompt = (\n",
    "        f\"Summarize the following property for a vacation rental listing:\\n\"\n",
    "        f\"Location: {property_item['location']}\\n\"\n",
    "        f\"Type: {property_item['type']}\\n\"\n",
    "        f\"Features: {', '.join(property_item['features'])}\\n\"\n",
    "        f\"Tags: {', '.join(property_item['tags'])}\\n\"\n",
    "        f\"Price per night: {property_item.get('price_per_night', 'N/A')}\\n\"\n",
    "    )\n",
    "\n",
    "    client = openai.OpenAI(\n",
    "        base_url=\"https://openrouter.ai/api/v1\",\n",
    "        api_key=OPENROUTER_API_KEY,\n",
    "    )\n",
    "\n",
    "    response = client.chat.completions.create(\n",
    "        extra_body={},\n",
    "        model=\"meta-llama/llama-3.3-70b-instruct:free\",\n",
    "        messages=[\n",
    "            {\n",
    "                \"role\": \"system\",\n",
    "                \"content\": \"You are a helpful assistant that summarizes property listings.\"\n",
    "            },\n",
    "            {\n",
    "                \"role\": \"user\",\n",
    "                \"content\": prompt\n",
    "            }\n",
    "        ]\n",
    "    )\n",
    "\n",
    "    # response = openai.ChatCompletion.create(\n",
    "    #     model=\"gpt-3.5-turbo\",\n",
    "    #     messages=[\n",
    "    #     {\"role\": \"system\", \"content\": \"You are a helpful assistant that summarizes property listings.\"},\n",
    "    #     {\"role\": \"user\", \"content\": prompt}\n",
    "    #     ],\n",
    "    #     max_tokens=60,\n",
    "    #     temperature=0.7,\n",
    "    # )\n",
    "    return response.choices[0].message.content.strip()"
   ]
  },
  {
   "cell_type": "code",
   "execution_count": null,
   "id": "8d1fab5c",
   "metadata": {},
   "outputs": [],
   "source": [
    "import json\n",
    "\n",
    "with open(os.path.abspath(\"data/vacation_rentals_final.json\"), \"r\", encoding=\"utf-8\") as f:\n",
    "    property_data = json.load(f)\n",
    "\n",
    "print(create_page_content(property_data[0]))\n"
   ]
  },
  {
   "cell_type": "code",
   "execution_count": null,
   "id": "4338928d",
   "metadata": {},
   "outputs": [],
   "source": []
  }
 ],
 "metadata": {
  "kernelspec": {
   "display_name": "mma_project1",
   "language": "python",
   "name": "python3"
  },
  "language_info": {
   "codemirror_mode": {
    "name": "ipython",
    "version": 3
   },
   "file_extension": ".py",
   "mimetype": "text/x-python",
   "name": "python",
   "nbconvert_exporter": "python",
   "pygments_lexer": "ipython3",
   "version": "3.13.0"
  }
 },
 "nbformat": 4,
 "nbformat_minor": 5
}
